{
 "cells": [
  {
   "cell_type": "code",
   "execution_count": null,
   "metadata": {},
   "outputs": [],
   "source": [
    "#Membuat Aplikasi Menu Restoran JeMoy\n",
    "print(\"~~~~Selamat Datang di Restoran JeMoy~~~~\")\n",
    "pembeli = input(\"Masukkan nama pembeli: \")\n",
    "print(\"Nama pembeli:\",pembeli)\n",
    "\n",
    "def fungsimakanan():\n",
    "    print(\"\\n~~~~Menu Makanan~~~~\")\n",
    "    print(\"1. Nasi Goreng = Rp25.000\")\n",
    "    print(\"2. Soto = Rp10.000\")\n",
    "    print(\"3. Bakso = Rp15.000\")\n",
    "    nomor=int(input(\"Masukkan Pilihan: "))\n",
    "    porsi=int(input(\"Masukkan Porsi: \"))\n",
    "    \n",
    "    if nomor==1:\n",
    "        total=porsi*25000\n",
    "        print(porsi,\"porsi Nasi Goreng Spesial = Rp",total)\n",
    "        jenis=(\"Nasi Goreng\")\n",
    "    elif nomor==2:\n",
    "        total=porsi*10000\n",
    "        print(porsi,\"porsi Soto = Rp”,total)\n",
    "        jenis=(\"Soto\")\n",
    "    elif nomor==3:\n",
    "        total=porsi*15000\n",
    "        print(porsi,\"porsi Bakso = Rp”,total)\n",
    "        jenis=(\"Bakso\")\n",
    "    else:\n",
    "        print(\"Pilihan yang Anda masukkan tidak ada\")\n",
    "        fungsimakanan()\n",
    "        \n",
    "fungsimakanan()\n",
    "\n",
    "def fungsiminuman():\n",
    "    print(\"\\n~~~~Menu Minuman~~~~\")\n",
    "    print(\"1. Es teh = Rp3000\")\n",
    "    print(\"2. Es Jeruk = Rp4000\")\n",
    "    print(\"3. Es Kopi = Rp6000\")\n",
    "    nomor=int(input(\"Masukkan pilihan: \"))\n",
    "    gelas=int(input(\"Berapa Gelas: \"))\n",
    "    \n",
    "    if nomor==1:\n",
    "        total=gelas*3000\n",
    "        print(gelas,\"Es Teh = Rp\",total)\n",
    "        jenis=(\"Gelas Es Teh\")\n",
    "    elif nomor==2:\n",
    "        total=gelas*4000\n",
    "        print(gelas,\"Es Jeruk = Rp\",total)\n",
    "        jenis=(\"Gelas Es Jeruk\")\n",
    "    elif nomor==3:\n",
    "        total=gelas*6000\n",
    "        print(gelas,\"Es Kopi = Rp\",total)\n",
    "        jenis=(\"Gelas Es Kopi\")\n",
    "    else:\n",
    "        print(\"Pilihan yang Anda masukkan tidak ada\")\n",
    "        fungsiminuman()\n",
    "        \n",
    "fungsiminuman()\n"
   ]
  }
 ],
 "metadata": {
  "kernelspec": {
   "display_name": "Python 3",
   "language": "python",
   "name": "python3"
  },
  "language_info": {
   "codemirror_mode": {
    "name": "ipython",
    "version": 3
   },
   "file_extension": ".py",
   "mimetype": "text/x-python",
   "name": "python",
   "nbconvert_exporter": "python",
   "pygments_lexer": "ipython3",
   "version": "3.8.3"
  }
 },
 "nbformat": 4,
 "nbformat_minor": 4
}
